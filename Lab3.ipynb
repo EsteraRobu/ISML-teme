{
 "cells": [
  {
   "cell_type": "code",
   "execution_count": 1,
   "metadata": {},
   "outputs": [],
   "source": [
    "import numpy as np\n",
    "import matplotlib.pyplot as plt\n",
    "import scipy.stats as stats\n",
    "import pandas as pd\n",
    "import pickle"
   ]
  },
  {
   "cell_type": "code",
   "execution_count": 2,
   "metadata": {},
   "outputs": [],
   "source": [
    "def r(n, x):  \n",
    "    enc = b'\\x80\\x03}q\\x00(K\\x01K\\x04K\\x02K\\x01K\\x03K\\x03K\\x04K\\x04K\\x05K\\x04K\\x06K\\x01K\\x07K\\x02K\\x08G?\\xee%\\x84\\xf4\\xc6\\xe6\\xdaK\\nG\\xbf\\xf4\\x81<\\xab\\x81\\xf9jK\\x0bK\\x02K\\x0cK\\x00K\\rG?\\xff\\\\(\\xf5\\xc2\\x8f\\\\K\\x0eG@\\x1b\\xae\\x01\\x98\\xf7\\x7f\\xc2K\\x0fG@\\x1b\\xae\\x14z\\xe1G\\xaeK\\x10G?\\xef333333K\\x11G?\\xb0\\xee\\x84\\xdfS\\xa8=K\\x12G?\\xb1,\\x8b\\xb0\\x96\\x0boK\\x13K\\x01K\\x14K\\x01K\\x15K\\x03K\\x16G?\\xfaQR\\tgj\\xbbK\\x17K\\x03K\\x18]q\\x01(G?\\xd5UUUUUUG?\\xf0\\x00\\x00\\x00\\x00\\x00\\x00eK\\x19]q\\x02(G?\\xe0\\x00\\x00\\x00\\x00\\x00\\x00G?\\xe6ffffffeK\\x1aK\\x01K\\x1b]q\\x03(G?\\xe0 \\xc4\\x9b\\xa5\\xe3TG?\\xe6E\\xa1\\xca\\xc0\\x83\\x12eK\\x1c]q\\x04(G?z\\x9f\\xbev\\xc8\\xb49G?\\xb9x\\xd4\\xfd\\xf3\\xb6FeK\\x1dK\\x02K\\x1eK\\x02K\\x1fK\\x03K K\\x02K!K\\x03K\"K\\x02K#K\\x02K$K\\x04u.'\n",
    "    d = pickle.loads(enc)\n",
    "    if d.get(n) is not None and d[n] == x: return True\n",
    "    return False\n",
    "\n",
    "def raspuns(n, q):\n",
    "    print('Raspuns %s' % ('corect' if r(n, q()) else 'incorect'))"
   ]
  },
  {
   "cell_type": "markdown",
   "metadata": {},
   "source": [
    "Distribuţia Bernoulli este asociată experimentelor care pot avea doar două rezultate. Acestea se numesc binary trials.\n",
    "\n",
    "Q1. Care din următoarele este un trial Bernoulli?\n",
    "\n",
    "1)Învârtirea roţii jocului de ruletă;\n",
    "2)Extragerea unei cărţi de joc din pachet;\n",
    "3)Aruncarea zarului;\n",
    "4)Aruncarea monezii."
   ]
  },
  {
   "cell_type": "code",
   "execution_count": 3,
   "metadata": {},
   "outputs": [
    {
     "name": "stdout",
     "output_type": "stream",
     "text": [
      "Raspuns corect\n"
     ]
    }
   ],
   "source": [
    "def q():\n",
    "    return 4\n",
    "\n",
    "print('Raspuns %s' % ('corect' if r(1, q()) else 'incorect'))"
   ]
  },
  {
   "cell_type": "markdown",
   "metadata": {},
   "source": [
    "Q2. O variabilă aleatoare Bernoulli poate lua doar două valori, 0 şi 1. Presupunem că probabilitatea ca un trial Bernoulli aibă ca rezultat 1 este $p$. Care din următoarele reprezintă probabilitatea să iasă 0?\n",
    "\n",
    "1)1-p\n",
    "\n",
    "2)p\n",
    "\n",
    "3)p^2\n",
    "\n",
    "4) p(1-p)"
   ]
  },
  {
   "cell_type": "code",
   "execution_count": 7,
   "metadata": {},
   "outputs": [
    {
     "name": "stdout",
     "output_type": "stream",
     "text": [
      "Raspuns corect\n"
     ]
    }
   ],
   "source": [
    "def q():\n",
    "    return 1\n",
    "\n",
    "print('Raspuns %s' % ('corect' if r(2, q()) else 'incorect'))"
   ]
  },
  {
   "cell_type": "markdown",
   "metadata": {},
   "source": [
    "Q3. În condiţiile anterioare, care din următoarele reprezintă o PMF (probability mass function, sau densitate de probabilitate) pentru distribuţia Bernoulli? Ne reamintim că PMF reprezintă probabilitatea ca variabila aleatoare X să fie egală cu x, $P(X=x)$.\n",
    "\n",
    "1) p^{1-x}(1-p)^{1-x}\n",
    "\n",
    "2) p(1-p)\n",
    "\n",
    "3) p^x(1-p)^{1-x}\n",
    "\n",
    "4) p^{1-x}(1-p)^x"
   ]
  },
  {
   "cell_type": "code",
   "execution_count": 4,
   "metadata": {},
   "outputs": [
    {
     "name": "stdout",
     "output_type": "stream",
     "text": [
      "Raspuns corect\n"
     ]
    }
   ],
   "source": [
    "def q():\n",
    "    return 3\n",
    "\n",
    "print('Raspuns %s' % ('corect' if r(3, q()) else 'incorect'))"
   ]
  },
  {
   "cell_type": "markdown",
   "metadata": {},
   "source": [
    "Q4. Care este media populaţiei pentru distribuţia Bernoulli pentru care probabilitatea de succes (X=1) este $p$?\n",
    "\n",
    "1)$p^2$\n",
    "\n",
    "2)$1-p$\n",
    "\n",
    "3)$p(1-p)$\n",
    "\n",
    "4)$p$"
   ]
  },
  {
   "cell_type": "code",
   "execution_count": 10,
   "metadata": {},
   "outputs": [
    {
     "name": "stdout",
     "output_type": "stream",
     "text": [
      "Raspuns corect\n"
     ]
    }
   ],
   "source": [
    "def q():\n",
    "    return 4\n",
    "\n",
    "print('Raspuns %s' % ('corect' if r(4, q()) else 'incorect'))"
   ]
  },
  {
   "cell_type": "markdown",
   "metadata": {},
   "source": [
    "Q5. Pentru aceeaşi distribuţie Bernoulli, care din următoarele reprezintă $E(X^2)$?\n",
    "\n",
    "1)$p^2$\n",
    "\n",
    "2)$(1-p)^2$\n",
    "\n",
    "3)$p(1-p)$\n",
    "\n",
    "4)$p$\n",
    "\n",
    "5)$1-p$"
   ]
  },
  {
   "cell_type": "code",
   "execution_count": 5,
   "metadata": {},
   "outputs": [
    {
     "name": "stdout",
     "output_type": "stream",
     "text": [
      "Raspuns corect\n"
     ]
    }
   ],
   "source": [
    "def q():\n",
    "    return 4\n",
    "\n",
    "print('Raspuns %s' % ('corect' if r(5, q()) else 'incorect'))"
   ]
  },
  {
   "cell_type": "markdown",
   "metadata": {},
   "source": [
    "Q6. Calculaţi dispersia pentru variabila aleatoare Bernoulli. Folosiţi ultimele două întrebări, şi faptul că $Var(X) = E(X^2) - E(X)^2$.\n",
    "\n",
    "1)$p(1-p)$\n",
    "\n",
    "2)$p^2(1-p)^2$\n",
    "\n",
    "3)$p(p-1)$\n",
    "\n",
    "4)$p^2-p$"
   ]
  },
  {
   "cell_type": "code",
   "execution_count": 18,
   "metadata": {},
   "outputs": [
    {
     "name": "stdout",
     "output_type": "stream",
     "text": [
      "Raspuns corect\n"
     ]
    }
   ],
   "source": [
    "\n",
    "def q():\n",
    "    return 1\n",
    "\n",
    "print('Raspuns %s' % ('corect' if r(6, q()) else 'incorect'))"
   ]
  },
  {
   "cell_type": "markdown",
   "metadata": {},
   "source": [
    "Variabilele aleatoare binomiale sunt obţinute ca sumă de trials Bernoulli iid. Fie $X_1, X_2, \\dots$ variabile Bernoulli. Atunci $X = X_1 + X_2 + \\dots$ este variabila binomială. Variabilele binomiale reprezintă numărul de succese, k, din n trial-uri independente Bernoulli. Fiecare trial are probabilitatea p.\n",
    "\n",
    "Q7. PMF pentru o variabilă binomială, folosim combinări de n luate câte k, adică coeficienţii binomiali. Care din următoarele reprezintă PMF pentru distribuţia binomială?\n",
    "\n",
    "1)$\\binom{n}{k}p^x(1-p)^{1-x}$\n",
    "\n",
    "2)$\\binom{n}{k}p^x(1-p)^{n-x}$\n",
    "\n",
    "3)$p^x$\n",
    "\n",
    "4)$\\binom{n}{k}p^{n-x}(1-p)^x$"
   ]
  },
  {
   "cell_type": "code",
   "execution_count": 6,
   "metadata": {},
   "outputs": [
    {
     "name": "stdout",
     "output_type": "stream",
     "text": [
      "Raspuns corect\n"
     ]
    }
   ],
   "source": [
    "def q():\n",
    "    return 2\n",
    "\n",
    "print('Raspuns %s' % ('corect' if r(7, q()) else 'incorect'))"
   ]
  },
  {
   "cell_type": "markdown",
   "metadata": {},
   "source": [
    "Q8. Dăm cu o monedă biased (neechilibrată) de 5 ori. Probabilitatea să iasă Head este 0.8 şi Tail 0.2. Care este probabilitatea să iasă cel puţin 3 Heads?\n",
    "\n",
    "Hint: folosiţi funcţia binom."
   ]
  },
  {
   "cell_type": "code",
   "execution_count": 34,
   "metadata": {},
   "outputs": [
    {
     "name": "stdout",
     "output_type": "stream",
     "text": [
      "Raspuns corect\n"
     ]
    }
   ],
   "source": [
    "from scipy.special import binom\n",
    "\n",
    "def q():\n",
    "    p = 0.8\n",
    "    return ( binom(5,3) * p**3 * (1-p)**2 + binom(5,4) * p**4 * (1-p)**1 + binom(5,5) * p**5 * (1-p)**0 )\n",
    "\n",
    "print('Raspuns %s' % ('corect' if r(8, q()) else 'incorect'))"
   ]
  },
  {
   "cell_type": "markdown",
   "metadata": {},
   "source": [
    "Q9. Folosiţi acum funcţia stats.binom.cdf() sau, dacă vreţi, survival function, stats.binom.sf() pentru a exprima acelaşi lucru."
   ]
  },
  {
   "cell_type": "code",
   "execution_count": 7,
   "metadata": {},
   "outputs": [
    {
     "name": "stdout",
     "output_type": "stream",
     "text": [
      "Raspuns corect\n"
     ]
    }
   ],
   "source": [
    "from scipy.special import binom\n",
    "\n",
    "def q():\n",
    "    return (1- stats.binom.cdf(2,n=5,p=0.8))\n",
    "\n",
    "print('Raspuns %s' % ('corect' if r(8, q()) else 'incorect'))"
   ]
  },
  {
   "cell_type": "markdown",
   "metadata": {},
   "source": [
    "Q10. O altă distribuţie comună este distribuţia Gaussiană. Densitatea sa de probabilitate este clopotul Gauss, simetrică, de medie $\\mu$. Dispersia $\\sigma^2$ corespunde lăţimii clopotului, cu cât mai mare, cu atât mai 'gras' este clopotul. Notăm o variabilă aleatorie de distribuţie normală cu $N \\sim N(\\mu, \\sigma^2)$.\n",
    "\n",
    "Distribuţia normală standard este cea cu $\\mu = 0$ şi $\\sigma = 1$ şi e deseori notată cu Z.\n",
    "\n",
    "Aproximativ 68%, 95% şi 99% din masa densităţii normale se află la 1, 2 şi respectiv 3 deviaţii standard faţă de medie.\n",
    "\n",
    "Folosiţi funcţia stats.norm.ppf() pentru a găsi percentila 10% (6 zecimale exacte)."
   ]
  },
  {
   "cell_type": "code",
   "execution_count": 3,
   "metadata": {},
   "outputs": [
    {
     "name": "stdout",
     "output_type": "stream",
     "text": [
      "Raspuns corect\n"
     ]
    }
   ],
   "source": [
    "def q():\n",
    "    loc=0\n",
    "    sigma=1\n",
    "    return round(stats.norm.ppf(.10,loc,sigma),6)\n",
    "\n",
    "print('Raspuns %s' % ('corect' if r(10, q()) else 'incorect'))"
   ]
  },
  {
   "cell_type": "markdown",
   "metadata": {},
   "source": [
    "Q11. Bazându-vă pe imaginea de la curs cu procentele de masă ale Gaussienei, cam pe unde vă aşteptaţi să fie percentila 1%?\n",
    "\n",
    "1)0\n",
    "\n",
    "2) -2.33\n",
    "\n",
    "3) 2.33\n",
    "\n",
    "4)-1.28\n",
    "\n",
    "5)-1"
   ]
  },
  {
   "cell_type": "code",
   "execution_count": 58,
   "metadata": {},
   "outputs": [
    {
     "name": "stdout",
     "output_type": "stream",
     "text": [
      "Raspuns corect\n"
     ]
    }
   ],
   "source": [
    "def q():\n",
    "    return 2\n",
    "\n",
    "print('Raspuns %s' % ('corect' if r(11, q()) else 'incorect'))"
   ]
  },
  {
   "cell_type": "markdown",
   "metadata": {},
   "source": [
    "Q12. Dar percentila 50%, câte deviaţii standard reprezintă?"
   ]
  },
  {
   "cell_type": "code",
   "execution_count": 8,
   "metadata": {},
   "outputs": [
    {
     "name": "stdout",
     "output_type": "stream",
     "text": [
      "Raspuns corect\n"
     ]
    }
   ],
   "source": [
    "\n",
    "def q():\n",
    "    return 0\n",
    "\n",
    "print('Raspuns %s' % ('corect' if r(12, q()) else 'incorect'))"
   ]
  },
  {
   "cell_type": "markdown",
   "metadata": {},
   "source": [
    "\n",
    "Q13. Folosind simetria clopotului Gauss, determinăm alte cantităţi. Dacă 2.5% din aria de sub curbă se află la stânga lui x=-1.96, care este percentila 97.5% pentru distribuţia normală standard?"
   ]
  },
  {
   "cell_type": "code",
   "execution_count": 61,
   "metadata": {},
   "outputs": [
    {
     "name": "stdout",
     "output_type": "stream",
     "text": [
      "Raspuns corect\n"
     ]
    }
   ],
   "source": [
    "def q():\n",
    "    return 1.96\n",
    "\n",
    "print('Raspuns %s' % ('corect' if r(13, q()) else 'incorect'))"
   ]
  },
  {
   "cell_type": "markdown",
   "metadata": {},
   "source": [
    "O distribuţie normală poate fi transformată prin scalare într-una standard.\n",
    "\n",
    "Dacă $X \\sim N(\\mu, \\sigma^2)$, atunci pentu $Z = (X-\\mu)/\\sigma$, $Z \\sim N(0, 1)$.\n",
    "\n",
    "Reciproc, dacă $Z \\sim N(0, 1)$, atunci $X = \\mu + \\sigma Z$ va avea o distribuţie $X \\sim N(\\mu, \\sigma^2)$.\n",
    "\n",
    "Q14. Folosiţi funcţia stats.norm.ppf(x, loc=.., scale=..) pentru a găsi percentila 97.5 pentru o distribuţie normală de medie 3 şi dispersie 4."
   ]
  },
  {
   "cell_type": "code",
   "execution_count": 65,
   "metadata": {},
   "outputs": [
    {
     "name": "stdout",
     "output_type": "stream",
     "text": [
      "Raspuns corect\n"
     ]
    }
   ],
   "source": [
    "def q():\n",
    "    return stats.norm.ppf(.975,3,2)\n",
    "\n",
    "print('Raspuns %s' % ('corect' if r(14, q()) else 'incorect'))"
   ]
  },
  {
   "cell_type": "markdown",
   "metadata": {},
   "source": [
    "Q15. Calculaţi acum percentila pornind de la distribuţia normală standard; ştim că pentru distribuţia standard, percentila 97.5 se află la 1.96 deviaţii standard faţă de medie. Înmulţiţi cu deviaţia standard şi adunaţi media:"
   ]
  },
  {
   "cell_type": "code",
   "execution_count": null,
   "metadata": {},
   "outputs": [],
   "source": [
    "def q():\n",
    "    return None\n",
    "\n",
    "print('Raspuns %s' % ('corect' if r(15, q()) else 'incorect'))"
   ]
  },
  {
   "cell_type": "markdown",
   "metadata": {},
   "source": [
    "Q16. Observaţi că funcţia stats.norm.cdf() ne dă care este probabilitatea ca variabila X să fie mai mică sau egală cu un x dat, cu alte cuvinte procentul de numere mai mici sau egale cu x dat, iar funcţia stats.norm.ppf() ne dă care este poziţia lui x astfel ca un procent dat de valori X să fie mai mici sau egale cu x. Cu alte cuvinte, functiile cdf() şi ppf() sunt inverse.\n",
    "\n",
    "Ce valoare vă aşteptaţi să dea stats.norm.cdf(stats.norm.ppf(.975)) ?"
   ]
  },
  {
   "cell_type": "code",
   "execution_count": 66,
   "metadata": {},
   "outputs": [
    {
     "name": "stdout",
     "output_type": "stream",
     "text": [
      "Raspuns corect\n"
     ]
    }
   ],
   "source": [
    "def q():\n",
    "    return .975\n",
    "\n",
    "print('Raspuns %s' % ('corect' if r(16, q()) else 'incorect'))"
   ]
  },
  {
   "cell_type": "markdown",
   "metadata": {},
   "source": [
    "Distribuţia Poisson este o distribuţie discretă care exprimă probabilitatea apariţiei unui număr dat de evenimente într-un interval fix de timp (sau spaţiu), dacă aceste evenimente apar cu o rată medie cunoscută, independent de momentul de timp de la ultimul eveniment (Wikipedia).\n",
    "\n",
    "PMF pentru distribuţia Poisson are un singur parametru, $\\lambda$. PMF calculează probabilitatea ca variabila aleatoare X, distribuită Poisson, să ia valoarea x. Anume:\n",
    "\n",
    "$P(X=x) = \\lambda^x e^{-\\lambda} / x!$\n",
    "\n",
    "x ia valori discrete de la 0 la infinit. Media şi dispersia pentru variabila Poisson X sunt tot $\\lambda$.\n",
    "\n",
    "Variabilele Poisson sunt folosite pentru modelarea ratei defectelor, de exemplu rata de defectare a SSD-urilor. Scriem $X \\sim Poisson(\\lambda t)$, unde $\\lambda$ este valoarea aşteptată a count-ului pe unitatea de timp iar $t$ este timpul total de monitorizare.\n",
    "\n",
    "De exemplu, presupunem că numărul de oameni care apar la o staţie de autobuz este o variabilă Poisson cu o medie de 2.5 pe oră, şi vrem să aflăm probabilitatea ca cel mult 3 oameni să apară într-o perioadă de 4 ore. Folosim funcţia stats.poisson.cdf(.. , mu= ..) pentru a afla probabilitatea ca variabila aleatoare să fie mai mică sau egală cu 3. Indicăm quantila (3) şi media (2.5*4)."
   ]
  },
  {
   "cell_type": "code",
   "execution_count": 67,
   "metadata": {},
   "outputs": [
    {
     "data": {
      "text/plain": [
       "0.010336050675925726"
      ]
     },
     "execution_count": 67,
     "metadata": {},
     "output_type": "execute_result"
    }
   ],
   "source": [
    "\n",
    "stats.poisson.cdf(3, mu=2.5*4)"
   ]
  },
  {
   "cell_type": "markdown",
   "metadata": {},
   "source": [
    "Distribuţia Poisson aproximează distribuţia binomială pentru $p$ mici şi $n$ mari, caz în care punem $\\lambda=n*p$. De exemplu, să estimăm probabilitatea de a vedea cel mult 5 succese din 1000 de trials (încercări), pentru aruncarea unei monezi biased, cu probabilitatea de succes $p=0.01$.\n",
    "\n",
    "Q17. Folosiţi https://docs.scipy.org/doc/scipy/reference/generated/scipy.stats.binom.html şi estimaţi probabilitaeta folosind distribuţia binomială:"
   ]
  },
  {
   "cell_type": "code",
   "execution_count": 5,
   "metadata": {},
   "outputs": [
    {
     "name": "stdout",
     "output_type": "stream",
     "text": [
      "Raspuns corect\n"
     ]
    }
   ],
   "source": [
    "def q():\n",
    "    return stats.binom.cdf(5,n=1000,p=0.01)\n",
    "\n",
    "print('Raspuns %s' % ('corect' if r(17, q()) else 'incorect'))"
   ]
  },
  {
   "cell_type": "markdown",
   "metadata": {},
   "source": [
    "Q18. Folosiţi acum distribuţia Poisson pentru a exprima acelaşi lucru. La final, tipăriţi ambele variante (print) şi comparaţi-le."
   ]
  },
  {
   "cell_type": "code",
   "execution_count": 7,
   "metadata": {},
   "outputs": [
    {
     "name": "stdout",
     "output_type": "stream",
     "text": [
      "Raspuns corect\n"
     ]
    }
   ],
   "source": [
    "def q():\n",
    "    return stats.poisson.cdf(5,mu=1000*0.01)\n",
    "\n",
    "\n",
    "\n",
    "print('Raspuns %s' % ('corect' if r(18, q()) else 'incorect'))"
   ]
  },
  {
   "cell_type": "code",
   "execution_count": 8,
   "metadata": {},
   "outputs": [
    {
     "name": "stdout",
     "output_type": "stream",
     "text": [
      "0.06613951160730465\n",
      "0.06708596287903189\n"
     ]
    }
   ],
   "source": [
    "print(stats.binom.cdf(5,n=1000,p=0.01))\n",
    "print(stats.poisson.cdf(5,mu=1000*0.01))"
   ]
  },
  {
   "cell_type": "markdown",
   "metadata": {},
   "source": [
    "Q19. Ne readucem aminte experimentele făcute pentru a trasa distribuţia sample means pentru o coleţie de observaţii iid (dădeam de 10 ori cu zarul şi calculam media celor 10 aruncări; repetam acest lucru de 10000 de ori şi obţineam 10000 de medii). Media acestor sample means estimează:\n",
    "\n",
    "1)media populaţiei\n",
    "\n",
    "2)dispersia populaţiei\n",
    "\n",
    "3)standard error\n",
    "\n",
    "4)$\\sigma^2 / n$"
   ]
  },
  {
   "cell_type": "code",
   "execution_count": 74,
   "metadata": {},
   "outputs": [
    {
     "name": "stdout",
     "output_type": "stream",
     "text": [
      "Raspuns corect\n"
     ]
    }
   ],
   "source": [
    "def q():\n",
    "    return 1\n",
    "\n",
    "print('Raspuns %s' % ('corect' if r(19, q()) else 'incorect'))"
   ]
  },
  {
   "cell_type": "markdown",
   "metadata": {},
   "source": [
    "Această tendinţă a mediei sample-urilor să se apropie de ceea ce vrea să estimeze este LLN - Law of Large Numbers. Ea formează baza abordării frecventiste.\n",
    "\n",
    "Teorema Centrală de Limită (CLT) afirmă că distribuţia mediei unor variabile iid (normalizată corespunzător) devine cea a unei distribuţii normale standard pe măsură ce mărimea sample-ului creşte.\n",
    "\n",
    "Adică, pentru $n$ suficient de mare, variabila normalizată:\n",
    "\n",
    "$\\frac{\\bar{X} - \\mu}{\\sigma / \\sqrt{n}}$\n",
    "\n",
    "are o distribuţie normală de medie 0 şi dispersie 1.\n",
    "\n",
    "Q20. Deoarece deviaţia standard a populaţiei $\\sigma$ este necunoscută, $\\sigma / \\sqrt{n}$ este aproximată cu:\n",
    "\n",
    "1)eroarea standard a sample mean;\n",
    "\n",
    "2)media populaţiei;\n",
    "\n",
    "3)dispersia populaţiei;\n",
    "\n",
    "4)nici una din cele de mai sus."
   ]
  },
  {
   "cell_type": "code",
   "execution_count": 78,
   "metadata": {},
   "outputs": [
    {
     "name": "stdout",
     "output_type": "stream",
     "text": [
      "Raspuns corect\n"
     ]
    }
   ],
   "source": [
    "def q():\n",
    "    return 1\n",
    "\n",
    "print('Raspuns %s' % ('corect' if r(20, q()) else 'incorect'))"
   ]
  },
  {
   "cell_type": "code",
   "execution_count": 79,
   "metadata": {},
   "outputs": [
    {
     "data": {
      "image/png": "[encoded data removed]",
      "text/plain": [
       "<Figure size 432x288 with 1 Axes>"
      ]
     },
     "metadata": {
      "needs_background": "light"
     },
     "output_type": "display_data"
    }
   ],
   "source": [
    "mu = 0\n",
    "std = 1\n",
    "\n",
    "x = np.linspace(mu - 4*std, mu + 4*std, 100)\n",
    "x1 = np.linspace(mu - 2*std, mu + 2*std, 50)\n",
    "x2 = np.linspace(mu - 1*std, mu + 1*std, 25)\n",
    "plt.plot(x, stats.norm.pdf(x, mu, std))\n",
    "plt.fill_between(x1, stats.norm.pdf(x1, mu, std), color=\"red\", alpha=0.6)\n",
    "plt.fill_between(x2, stats.norm.pdf(x2, mu, std), color=\"red\", alpha=0.9)\n",
    "plt.grid(True)\n",
    "plt.xlabel('Random Variable')\n",
    "plt.ylabel('Probability')\n",
    "plt.title('Proporţia masei în distribuţia normală')\n",
    "plt.show()"
   ]
  },
  {
   "cell_type": "markdown",
   "metadata": {},
   "source": [
    "Pentru distribuţia normală, 95% din aria de sub curbă este între 2 deviaţii standard faţă de medie (toată aria marcată cu roşu de mai sus). Deci în 'cozile' (tails) laterale rămâne restul de 5%. Partea la o deviaţie standard faţă de medie (partea roşie centrală) formează cam 68% din total; iar aria situată la 3 deviaţii standard faţă de medie formează aproximativ 99.5% din total.\n",
    "\n",
    "Aşadar cam 5% din arie nu este marcată. Prin simetrie, doar 2.5% din date sunt mai mari sau egale cu 2 deviaţii standard faţă de medie. Putem scrie aşadar:\n",
    "\n",
    "$P(\\bar{X} &gt; 2 \\sigma/\\sqrt{n} \\: \\text{or} \\: \\bar{X} &lt; -2 \\sigma/\\sqrt{n}) = 5\\%$\n",
    "\n",
    "Cantitatea:\n",
    "\n",
    "$\\bar{X} \\pm 2 \\frac{\\sigma}{\\sqrt{n}}$ (cuantila 0.975 este de fapt 1.96, dar o aproximăm cu 2)\n",
    "\n",
    "este denumită intervalul 95% pentru $\\mu$. Acest 95% spune că dacă realizăm în mod repetat sample-uri de dimensiune $n$, aproximativ 95% dintre ele vor conţine $\\mu$, cantitatea pe care încercăm să o estimăm.\n",
    "\n",
    "Q21. Dacă urmărim să obţinem intervalul de confidenţă 90%, ce cuantilă folosim?\n",
    "\n",
    "1) 100\n",
    "\n",
    "2) 90\n",
    "\n",
    "3) 95\n",
    "\n",
    "4) 85"
   ]
  },
  {
   "cell_type": "code",
   "execution_count": 81,
   "metadata": {},
   "outputs": [
    {
     "name": "stdout",
     "output_type": "stream",
     "text": [
      "Raspuns corect\n"
     ]
    }
   ],
   "source": [
    "def q():\n",
    "    return 3\n",
    "\n",
    "print('Raspuns %s' % ('corect' if r(21, q()) else 'incorect'))"
   ]
  },
  {
   "cell_type": "markdown",
   "metadata": {},
   "source": [
    "Q22. Folosiţi stats.norm.ppf() pentru a obţine această quantilă:"
   ]
  },
  {
   "cell_type": "code",
   "execution_count": 82,
   "metadata": {},
   "outputs": [
    {
     "name": "stdout",
     "output_type": "stream",
     "text": [
      "Raspuns corect\n"
     ]
    }
   ],
   "source": [
    "def q():\n",
    "    return stats.norm.ppf(.95,0,1)\n",
    "\n",
    "print('Raspuns %s' % ('corect' if r(22, q()) else 'incorect'))"
   ]
  },
  {
   "cell_type": "markdown",
   "metadata": {},
   "source": [
    "Q23. Într-o distribuţie binomială în care $p$ reprezintă probabilitatea de succes, dispersia este $\\sigma^2 = p(1-p)$. Eroarea standard a mediei sample-ului $\\hat{p}$ este $\\sqrt{p(1-p)/n}$, unde $n$ este dimensiunea sample-ului. Intervalul de confidenţă 95% pentru $p$ este $\\hat{p} \\pm 2 \\sqrt{p(1-p)/n}$. 2-ul din formulă reprezintă:\n",
    "\n",
    "1)eroarea standard a lui $\\hat{p}$\n",
    "\n",
    "2)media lui $\\hat{p}$\n",
    "\n",
    "3)quantila 97.5\n",
    "\n",
    "4)dispersia lui $\\hat{p}$"
   ]
  },
  {
   "cell_type": "code",
   "execution_count": 84,
   "metadata": {},
   "outputs": [
    {
     "name": "stdout",
     "output_type": "stream",
     "text": [
      "Raspuns corect\n"
     ]
    }
   ],
   "source": [
    "def q():\n",
    "    return 3\n",
    "\n",
    "print('Raspuns %s' % ('corect' if r(23, q()) else 'incorect'))"
   ]
  },
  {
   "cell_type": "markdown",
   "metadata": {},
   "source": [
    "Q24. De cele mai multe ori, pentru o astfel de distribuţie binomială nu cunoaştem valoarea teoretică a lui $p$. Putem însă să considerăm valoarea lui $p$ pentru care funcţia $p(1-p)$ atinge valoarea maximă.\n",
    "\n",
    "a) reprezentaţi grafic funcţia $p(1-p)$ şi observaţi valoarea maximă a lui $p$;\n",
    "\n",
    "b) pentru $p$ astfel determinat, care este intervalul de confidenţă 95% pentru media populaţiei pentru sample-ul $\\{0, 1, 1, 1, 0, 1\\}$? Daţi răspunsul sub formă de listă cu 2 elemente."
   ]
  },
  {
   "cell_type": "code",
   "execution_count": 5,
   "metadata": {},
   "outputs": [
    {
     "data": {
      "image/png": "[encoded data removed]",
      "text/plain": [
       "<Figure size 432x288 with 1 Axes>"
      ]
     },
     "metadata": {
      "needs_background": "light"
     },
     "output_type": "display_data"
    },
    {
     "name": "stdout",
     "output_type": "stream",
     "text": [
      "0.3333333333333333 1.0\n",
      "Raspuns corect\n"
     ]
    }
   ],
   "source": [
    "p = np.linspace(0, 1, num=100)\n",
    "plt.plot(p, p*(1-p))\n",
    "plt.grid(True)\n",
    "plt.show()\n",
    "\n",
    "sample = np.array([0, 1, 1, 1, 0, 1, 0, 1, 1])\n",
    "\n",
    "def q():\n",
    "    x=6/9-1/np.sqrt(9)\n",
    "    x2=6/9+1/np.sqrt(9)\n",
    "    print(x, x2)\n",
    "    y=[x,x2]\n",
    "    return y\n",
    "\n",
    "print('Raspuns %s' % ('corect' if r(24, q()) else 'incorect'))"
   ]
  },
  {
   "cell_type": "markdown",
   "metadata": {},
   "source": [
    "\n",
    "Q25. În urma unui sondaj a reieşit că din 100 de potenţiali alegători, 60 şi-au exprimat intenţia de a-l vota pe candidatul X. Care este intervalul de confidenţă 95% pentru media populaţiei? Nu cunoaştem probabilitatea de succes pentru candidatul X, aşa că luăm intervalul de confidenţă cel mai larg ($p$ maxim). Daţi cele două valori sub formă de listă."
   ]
  },
  {
   "cell_type": "code",
   "execution_count": 6,
   "metadata": {},
   "outputs": [
    {
     "name": "stdout",
     "output_type": "stream",
     "text": [
      "Raspuns corect\n"
     ]
    }
   ],
   "source": [
    "def q():\n",
    "    x1=0.6-1/np.sqrt(100)\n",
    "    x2=0.6+1/np.sqrt(100)\n",
    "    x=[x1,x2]\n",
    "    return x\n",
    "\n",
    "raspuns(25, q)"
   ]
  },
  {
   "cell_type": "markdown",
   "metadata": {},
   "source": [
    "Q26. Puteţi afirma că sunteţi 95% sigur(ă) că acel candidat va ieşi câştigător?\n",
    "\n",
    "1)da\n",
    "2)nu"
   ]
  },
  {
   "cell_type": "code",
   "execution_count": 5,
   "metadata": {},
   "outputs": [
    {
     "name": "stdout",
     "output_type": "stream",
     "text": [
      "Raspuns corect\n"
     ]
    }
   ],
   "source": [
    "def q():\n",
    "    return 1\n",
    "\n",
    "raspuns(26, q)"
   ]
  },
  {
   "cell_type": "markdown",
   "metadata": {},
   "source": [
    "Q27. Să fim mai exacţi. Cunoaştem cu aproximaţie media populaţiei (din sample-ul de votanţi), adică 0.6, aşa că putem calcula dispersia teoretică a distribuţiei binomiale. Apoi vom lua, folosind stats.norm.ppf(), exact quantila 95%. Refaceţi calculul pentru intervalul de confidenţă. Răspundeţi cu o listă de 2 elemente, rotunjite la 3 zecimale."
   ]
  },
  {
   "cell_type": "code",
   "execution_count": 7,
   "metadata": {},
   "outputs": [
    {
     "name": "stdout",
     "output_type": "stream",
     "text": [
      "[0.50398177 0.69601823]\n",
      "Raspuns corect\n"
     ]
    }
   ],
   "source": [
    "def q():\n",
    "    x=0.6 + np.array([-1, 1]) * stats.norm.ppf(0.975) * np.sqrt(0.6*(1-0.6)/100)\n",
    "    print(x)\n",
    "    y=[round(x[0],3),round(x[1],3)]\n",
    "    return y\n",
    "\n",
    "raspuns(27, q)"
   ]
  },
  {
   "cell_type": "markdown",
   "metadata": {},
   "source": [
    "Q28. Reluăm exemplul cu pompa nucleară care s-a defectat de 5 ori în decurs de 94.32 zile. Dorim să determinăm intervalul de confidenţă 95% pentru rata de defectare pe zi. Numărul de defectări este variabila aleatoare Poisson X cu parametrul $\\lambda * t$. Nu observăm rata de defectare, dar o estimăm ca $x / t$. Fie deci acest estimator $\\hat{\\lambda} = x/t$. Conform teoriei, estimatorul dispersiei ratei failure-urilor este $\\lambda/t$. Pentru că nu ştim $\\lambda$, folosim estimatorul, aşa încât aproximăm dispersia cu $\\hat{\\sigma^2} = \\hat{\\lambda}/t$.\n",
    "\n",
    "Aşadar, calculăm intervalul de confidenţă astfel:\n",
    "\n",
    "$\\hat{\\lambda} \\pm z_{97.5\\%} \\sqrt{\\hat{\\sigma}^2}$\n",
    "\n",
    "Daţi intervalul de confidenţă ca o listă cu 2 elemente (4 zecimale exacte)."
   ]
  },
  {
   "cell_type": "code",
   "execution_count": 14,
   "metadata": {},
   "outputs": [
    {
     "name": "stdout",
     "output_type": "stream",
     "text": [
      "[0.00654567 0.09947639]\n",
      "Raspuns corect\n"
     ]
    }
   ],
   "source": [
    "def q():\n",
    "    x=5\n",
    "    t=94.32\n",
    "    lambda1=x/t\n",
    "    a=lambda1+np.array([-1,1])*stats.norm.ppf(0.975)*np.sqrt(lambda1/t)\n",
    "    print(a)\n",
    "    y=[round(a[0],4),round(a[1],4)]\n",
    "    return y\n",
    "\n",
    "raspuns(28, q)"
   ]
  },
  {
   "cell_type": "markdown",
   "metadata": {},
   "source": [
    "\n",
    "Q29. Teorema centrală de limită ne spune că distribuţia mediilor este o distribuţie:\n",
    "\n",
    "1)Poisson\n",
    "2)normală\n",
    "3)anormală\n",
    "4)binomială\n",
    "5)standard"
   ]
  },
  {
   "cell_type": "code",
   "execution_count": 6,
   "metadata": {},
   "outputs": [
    {
     "name": "stdout",
     "output_type": "stream",
     "text": [
      "Raspuns corect\n"
     ]
    }
   ],
   "source": [
    "def q():\n",
    "    return 2\n",
    "\n",
    "raspuns(29, q)"
   ]
  },
  {
   "cell_type": "markdown",
   "metadata": {},
   "source": [
    "\n",
    "Q30. CLT ne spune că mediile au acea distribuţie centrată la:\n",
    "\n",
    "1)standard error\n",
    "2)media populaţiei\n",
    "3)dispersia populaţiei"
   ]
  },
  {
   "cell_type": "code",
   "execution_count": 9,
   "metadata": {},
   "outputs": [
    {
     "name": "stdout",
     "output_type": "stream",
     "text": [
      "Raspuns corect\n"
     ]
    }
   ],
   "source": [
    "\n",
    "def q():\n",
    "    return 2\n",
    "\n",
    "raspuns(30, q)"
   ]
  },
  {
   "cell_type": "markdown",
   "metadata": {},
   "source": [
    "\n",
    "Q31. CLT ne spune că mediile au acea distribuţie cu deviaţia standard egală cu:\n",
    "\n",
    "1)dispersia populaţiei\n",
    "2)media populaţiei\n",
    "3)standard error"
   ]
  },
  {
   "cell_type": "code",
   "execution_count": 12,
   "metadata": {},
   "outputs": [
    {
     "name": "stdout",
     "output_type": "stream",
     "text": [
      "Raspuns corect\n"
     ]
    }
   ],
   "source": [
    "def q():\n",
    "    return 3\n",
    "\n",
    "raspuns(31, q)"
   ]
  },
  {
   "cell_type": "markdown",
   "metadata": {},
   "source": [
    "\n",
    "Q32. CLT ne spune că mediile au întotdeauna o distribuţie normală indiferent de mărimea sample-ului:\n",
    "\n",
    "1)Adevărat\n",
    "2)Fals"
   ]
  },
  {
   "cell_type": "code",
   "execution_count": 13,
   "metadata": {},
   "outputs": [
    {
     "name": "stdout",
     "output_type": "stream",
     "text": [
      "Raspuns corect\n"
     ]
    }
   ],
   "source": [
    "def q():\n",
    "    return 2\n",
    "\n",
    "raspuns(32, q)"
   ]
  },
  {
   "cell_type": "markdown",
   "metadata": {},
   "source": [
    "\n",
    "Q33. Pentru a calcula intervalul de confidenţă pentru medie, se ia sample mean şi se adună şi se scade quantila normală relevantă înmulţit cu:\n",
    "\n",
    "1)dispersia / n\n",
    "2)media\n",
    "3)standard error\n",
    "4)dispersia"
   ]
  },
  {
   "cell_type": "code",
   "execution_count": 17,
   "metadata": {},
   "outputs": [
    {
     "name": "stdout",
     "output_type": "stream",
     "text": [
      "Raspuns corect\n"
     ]
    }
   ],
   "source": [
    "\n",
    "def q():\n",
    "    return 3\n",
    "\n",
    "raspuns(33, q)"
   ]
  },
  {
   "cell_type": "markdown",
   "metadata": {},
   "source": [
    "\n",
    "Q34. Dacă avem mai puţină variabilitate în date, atunci intervalul de confidenţă:\n",
    "\n",
    "1)se măreşte\n",
    "2)se micşorează"
   ]
  },
  {
   "cell_type": "code",
   "execution_count": 19,
   "metadata": {},
   "outputs": [
    {
     "name": "stdout",
     "output_type": "stream",
     "text": [
      "Raspuns corect\n"
     ]
    }
   ],
   "source": [
    "\n",
    "def q():\n",
    "    return 2\n",
    "\n",
    "raspuns(34, q)"
   ]
  },
  {
   "cell_type": "markdown",
   "metadata": {},
   "source": [
    "Q35. Dacă mărimea sample-ului pe care calculăm mediile creşte, atunci intervalul de confidenţă:\n",
    "\n",
    "1)se măreşte\n",
    "2)se micşorează"
   ]
  },
  {
   "cell_type": "code",
   "execution_count": 21,
   "metadata": {},
   "outputs": [
    {
     "name": "stdout",
     "output_type": "stream",
     "text": [
      "Raspuns corect\n"
     ]
    }
   ],
   "source": [
    "def q():\n",
    "    return 2\n",
    "\n",
    "raspuns(35, q)"
   ]
  },
  {
   "cell_type": "markdown",
   "metadata": {},
   "source": [
    "Q36. O setare rapidă pe care o putem face pentru un sample size mic în cazul unei distribuţii binomiale este să:\n",
    "\n",
    "1)schimbăm datele\n",
    "2)adăugăm 2 succese şi să scădem 2 failures\n",
    "3)adăugăm 2 succese şi 4 failures\n",
    "4)adăugăm 2 succese şi 2 failures"
   ]
  },
  {
   "cell_type": "code",
   "execution_count": 22,
   "metadata": {},
   "outputs": [
    {
     "name": "stdout",
     "output_type": "stream",
     "text": [
      "Raspuns corect\n"
     ]
    }
   ],
   "source": [
    "def q():\n",
    "    return 4\n",
    "\n",
    "raspuns(36, q)"
   ]
  },
  {
   "cell_type": "markdown",
   "metadata": {},
   "source": [
    "Q37. Pentru aruncarea repetată a unei monede, număraţi, folosind exemplul histogramei aruncărilor zarului, de câte ori avem $k$ succese din 10 aruncări succesive.\n",
    "\n",
    "Ce distribuţie are suma feţelor obţinute?\n",
    "\n",
    "Repetaţi acelaşi lucru cu extragerea cu reintroducere a unei cărţi din pachetul de cărţi de joc."
   ]
  },
  {
   "cell_type": "code",
   "execution_count": 8,
   "metadata": {},
   "outputs": [
    {
     "data": {
      "image/png": "[encoded data removed]",
      "text/plain": [
       "<Figure size 432x288 with 1 Axes>"
      ]
     },
     "metadata": {
      "needs_background": "light"
     },
     "output_type": "display_data"
    }
   ],
   "source": [
    "d = {}\n",
    "for i in range(2):\n",
    "    d[i] = 1\n",
    "    \n",
    "def cumulate(a, d):\n",
    "    res = {}\n",
    "    for k1, v1 in a.items():\n",
    "        for k2, v2 in d.items():\n",
    "            res[k1+k2] = v1*v2 if res.get(k1+k2) is None else res[k1+k2] + v1*v2\n",
    "    return res\n",
    "t = d\n",
    "for i in range(9):\n",
    "    t = cumulate(t, d)\n",
    "\n",
    "sums = np.array(list(t.keys()))\n",
    "counts = np.array(list(t.values()))\n",
    "\n",
    "plt.bar(sums, counts)\n",
    "plt.xlabel('sume posibile')\n",
    "plt.ylabel('de câte ori pot apărea\\nîn totalul celor %d variante' % np.sum(counts))\n",
    "plt.show()"
   ]
  },
  {
   "cell_type": "code",
   "execution_count": 9,
   "metadata": {},
   "outputs": [
    {
     "data": {
      "image/png": "[encoded data removed]",
      "text/plain": [
       "<Figure size 432x288 with 1 Axes>"
      ]
     },
     "metadata": {
      "needs_background": "light"
     },
     "output_type": "display_data"
    }
   ],
   "source": [
    "d = {}\n",
    "for i in range(54):\n",
    "    d[i+1] = 1\n",
    "    \n",
    "def cumulate(a, d):\n",
    "    res = {}\n",
    "    for k1, v1 in a.items():\n",
    "        for k2, v2 in d.items():\n",
    "            res[k1+k2] = v1*v2 if res.get(k1+k2) is None else res[k1+k2] + v1*v2\n",
    "    return res\n",
    "t = d\n",
    "for i in range(9):\n",
    "    t = cumulate(t, d)\n",
    "\n",
    "sums = np.array(list(t.keys()))\n",
    "counts = np.array(list(t.values()))\n",
    "\n",
    "plt.bar(sums, counts)\n",
    "plt.xlabel('sume posibile')\n",
    "plt.ylabel('de câte ori pot apărea\\nîn totalul celor %d variante' % np.sum(counts))\n",
    "plt.show()"
   ]
  },
  {
   "cell_type": "code",
   "execution_count": null,
   "metadata": {},
   "outputs": [],
   "source": []
  }
 ],
 "metadata": {
  "kernelspec": {
   "display_name": "Python 3",
   "language": "python",
   "name": "python3"
  },
  "language_info": {
   "codemirror_mode": {
    "name": "ipython",
    "version": 3
   },
   "file_extension": ".py",
   "mimetype": "text/x-python",
   "name": "python",
   "nbconvert_exporter": "python",
   "pygments_lexer": "ipython3",
   "version": "3.7.2"
  }
 },
 "nbformat": 4,
 "nbformat_minor": 2
}
