{
 "cells": [
  {
   "cell_type": "code",
   "execution_count": 2,
   "metadata": {},
   "outputs": [],
   "source": [
    "import numpy as np\n",
    "import matplotlib.pyplot as plt\n",
    "import scipy.stats as stats\n",
    "import pandas as pd\n",
    "import pickle"
   ]
  },
  {
   "cell_type": "code",
   "execution_count": 3,
   "metadata": {},
   "outputs": [],
   "source": [
    "def r(n, r):  \n",
    "    enc = b'\\x80\\x03}q\\x00(K\\x01G@\\x0c\\x00\\x00\\x00\\x00\\x00\\x00K\\x02G@\\x11UL\\x98_\\x06\\xf7K\\x03G@\\x05Uf\\xcfA\\xf2\\x13K\\x04G@\\x0c\\x00\\x00\\x00\\x00\\x00\\x00K\\x05K\\x01K\\x07K\\x03K\\x08K\\x02K\\tK\\x01K\\nX\\x08\\x00\\x00\\x00nu/da/daq\\x01K\\x0bG@\\x0c\\x00\\x00\\x00\\x00\\x00\\x00K\\x0cG@.U\\x81\\x06$\\xdd/K\\rG@\\x07V\\x04\\x18\\x93t\\xbcK\\x0eK\\x01K\\x0fK\\x03K\\x10K\\x01K\\x11K\\x04u.'\n",
    "    d = pickle.loads(enc)\n",
    "    if d.get(n) is not None and d[n] == r: return True\n",
    "    return False"
   ]
  },
  {
   "cell_type": "markdown",
   "metadata": {},
   "source": [
    "Q1. Considerăm variabila aleatoare X care corespunde unei aruncări cu zarul. Dacă zarul este ideal (corect), toate feţele pot ieşi cu aceeaşi probabilitate. Care este valoarea aşteptată a lui X?"
   ]
  },
  {
   "cell_type": "code",
   "execution_count": 6,
   "metadata": {},
   "outputs": [
    {
     "name": "stdout",
     "output_type": "stream",
     "text": [
      "3.5 Raspuns corect\n"
     ]
    }
   ],
   "source": [
    "def q():\n",
    "    return (1/6)*(1+2+3+4+5+6)\n",
    "\n",
    "print(  q(),'Raspuns %s' % ('corect' if r(1, q()) else 'incorect'))"
   ]
  },
  {
   "cell_type": "markdown",
   "metadata": {},
   "source": [
    "Q2. Presupunem că avem trei zaruri, primele două trucate, cu centrul de greutate diferit de mijloc, în timp ce al treilea este un zar ideal. Pentru fiecare din cele trei definim probability mass function caracteristică zarului:"
   ]
  },
  {
   "cell_type": "code",
   "execution_count": 6,
   "metadata": {},
   "outputs": [],
   "source": [
    "pmf1 = [0.04761905, 0.09523810, 0.14285714, 0.19047619, 0.23809524, 0.28571428]\n",
    "pmf2 = [0.28571429, 0.23809524, 0.19047619, 0.14285714, 0.09523810, 0.04761904]\n",
    "pmf3 = [0.16666666, 0.16666666, 0.16666667, 0.16666667, 0.16666667, 0.16666667]"
   ]
  },
  {
   "cell_type": "markdown",
   "metadata": {},
   "source": [
    "Care este valoarea aşteptată pentru primul zar? Daţi răspunsul cu 4 zecimale. Definiţi funcţia expected() de mai jos. Verificaţi că aţi scris corect funcţia folosind valoarea aşteptată pentru un zar corect."
   ]
  },
  {
   "cell_type": "code",
   "execution_count": 19,
   "metadata": {},
   "outputs": [
    {
     "name": "stdout",
     "output_type": "stream",
     "text": [
      "Raspuns corect\n"
     ]
    }
   ],
   "source": [
    "def expected(pmf):\n",
    "    return 1*pmf[0]+2*pmf[1]+3*pmf[2]+4*pmf[3]+5*pmf[4]+6*pmf[5]\n",
    "def q():\n",
    "    return round(expected(pmf1), 4)\n",
    "\n",
    "print('Raspuns %s' % ('corect' if r(2, q()) else 'incorect'))"
   ]
  },
  {
   "cell_type": "markdown",
   "metadata": {},
   "source": [
    "Q3. Care este valoarea aşteptată pentru al doilea zar? (tot patru zecimale)."
   ]
  },
  {
   "cell_type": "code",
   "execution_count": 21,
   "metadata": {},
   "outputs": [
    {
     "name": "stdout",
     "output_type": "stream",
     "text": [
      "Raspuns corect\n"
     ]
    }
   ],
   "source": [
    "def q():\n",
    "    return round(expected(pmf2), 4)\n",
    "\n",
    "print('Raspuns %s' % ('corect' if r(3, q()) else 'incorect'))"
   ]
  },
  {
   "cell_type": "markdown",
   "metadata": {},
   "source": [
    "Q4. Care este valoarea aşteptată pentru media variabilelor aleatoare reprezentate de primele două zaruri?\n",
    "\n",
    "Hint1: funcţia zip(l1, l2) parcurge două liste prin construcţia de perechi cu elemente din ambele liste. Iteraţi de exemplu zip(range(3), range(1, 4)).\n",
    "\n",
    "Hint2: folosiţi funcţia round(x, 4)"
   ]
  },
  {
   "cell_type": "code",
   "execution_count": 23,
   "metadata": {},
   "outputs": [
    {
     "name": "stdout",
     "output_type": "stream",
     "text": [
      "Raspuns corect\n"
     ]
    }
   ],
   "source": [
    "def q():\n",
    "    return round((expected(pmf1)+expected(pmf2))/2,4)\n",
    "\n",
    "print('Raspuns %s' % ('corect' if r(4, q()) else 'incorect'))"
   ]
  },
  {
   "cell_type": "code",
   "execution_count": 22,
   "metadata": {},
   "outputs": [
    {
     "data": {
      "image/png": "[encoded data removed]",
      "text/plain": [
       "<Figure size 1080x360 with 2 Axes>"
      ]
     },
     "metadata": {
      "needs_background": "light"
     },
     "output_type": "display_data"
    }
   ],
   "source": [
    "x = np.linspace(-.5, 1.5, 200)\n",
    "y = np.logical_and(x >= 0, x <= 1)*1.0\n",
    "\n",
    "fig, (ax1, ax2) = plt.subplots(1, 2, figsize=(15, 5))\n",
    "ax1.plot(x, y)\n",
    "ax1.set_title('p(x)')\n",
    "ax2.plot(x, x*y)\n",
    "ax2.set_title('x * p(x)')\n",
    "plt.show()"
   ]
  },
  {
   "cell_type": "markdown",
   "metadata": {},
   "source": [
    "Q5. Pentru densitatea de probabilitate f(x) dată mai sus, care este valoarea aşteptată pentru E(X)?"
   ]
  },
  {
   "cell_type": "code",
   "execution_count": 27,
   "metadata": {},
   "outputs": [
    {
     "name": "stdout",
     "output_type": "stream",
     "text": [
      "Raspuns corect\n"
     ]
    }
   ],
   "source": [
    "def q():\n",
    "    return 1.000\n",
    "\n",
    "print('Raspuns %s' % ('corect' if r(5, q()) else 'incorect'))"
   ]
  },
  {
   "cell_type": "markdown",
   "metadata": {},
   "source": [
    "\n",
    "Q6. Mai jos este dată o populaţie de 6 numere, sub forma unui array Numpy. Funcţia Numpy mean() este folosită pentru a calcula media sa:"
   ]
  },
  {
   "cell_type": "code",
   "execution_count": 6,
   "metadata": {},
   "outputs": [
    {
     "name": "stdout",
     "output_type": "stream",
     "text": [
      "valoarea aşteptată (media): 9.0\n"
     ]
    }
   ],
   "source": [
    "population = np.array([1, 4, 7, 10, 13, 19])\n",
    "print('valoarea aşteptată (media):', np.mean(population))"
   ]
  },
  {
   "cell_type": "markdown",
   "metadata": {},
   "source": [
    "Mai departe, din această populaţie vom selecta, în mod aleator, un sample de trei valori. Vom face acest lucru de 1000 de ori (deci 1000 de sample-uri). Variabila $idx$ de mai jos descrie care din elementele populaţiei a fost selectat aleator - va fi o matrice de 1000 de linii x 3 coloane;"
   ]
  },
  {
   "cell_type": "code",
   "execution_count": 7,
   "metadata": {},
   "outputs": [
    {
     "name": "stdout",
     "output_type": "stream",
     "text": [
      "[[4 0 5]\n",
      " [2 1 3]\n",
      " [4 3 0]\n",
      " [1 4 4]\n",
      " [0 3 4]]\n"
     ]
    }
   ],
   "source": [
    "idx = np.random.randint(low=0, high=len(population), size=(1000, 3))\n",
    "\n",
    "# vedem primele 5 linii ale ei:\n",
    "print(idx[:5, :])"
   ]
  },
  {
   "cell_type": "markdown",
   "metadata": {},
   "source": [
    "Folosind variabila $idx$, prin proiecţie pe populaţie, vom obţine cele 1000 de sample-uri (matricea rezultată are aceleaşi dimensiuni):"
   ]
  },
  {
   "cell_type": "code",
   "execution_count": 8,
   "metadata": {},
   "outputs": [
    {
     "name": "stdout",
     "output_type": "stream",
     "text": [
      "forma matricii: (1000, 3) (linii, coloane)\n"
     ]
    }
   ],
   "source": [
    "samples = population[idx]\n",
    "print('forma matricii: %s (linii, coloane)' % str(samples.shape))"
   ]
  },
  {
   "cell_type": "markdown",
   "metadata": {},
   "source": [
    "Pentru fiecare linie, calculăm media (observaţi argumentul axis; acesta indică axa pentru care se face funcţia, aici 1 înseamnă că se face pe linii; pe coloane ar fi fost axis=0):"
   ]
  },
  {
   "cell_type": "code",
   "execution_count": 9,
   "metadata": {},
   "outputs": [
    {
     "data": {
      "text/plain": [
       "array([11.,  7.,  8., 10.,  8.])"
      ]
     },
     "execution_count": 9,
     "metadata": {},
     "output_type": "execute_result"
    }
   ],
   "source": [
    "means = np.mean(samples, axis=1)\n",
    "means[:5]"
   ]
  },
  {
   "cell_type": "markdown",
   "metadata": {},
   "source": [
    "Sample mean pe care o tot socotim de 1000 de ori are şi ea o distribuţie. Media acestei distribuţii este un estimator pentru media populaţiei:"
   ]
  },
  {
   "cell_type": "code",
   "execution_count": 10,
   "metadata": {},
   "outputs": [
    {
     "data": {
      "text/plain": [
       "9.063"
      ]
     },
     "execution_count": 10,
     "metadata": {},
     "output_type": "execute_result"
    }
   ],
   "source": [
    "\n",
    "np.mean(means)"
   ]
  },
  {
   "cell_type": "markdown",
   "metadata": {},
   "source": [
    "Pentru dimensiuni ale sample-ului de 2, 3, 4, ridicaţi distribuţia sample mean, folosind atât codul de mai sus cât şi cel prezentat la curs pentru aruncarea zarului - funcţia roll() şi graficul aferent."
   ]
  },
  {
   "cell_type": "code",
   "execution_count": 11,
   "metadata": {},
   "outputs": [
    {
     "data": {
      "image/png": "[encoded data removed]",
      "text/plain": [
       "<Figure size 1080x360 with 3 Axes>"
      ]
     },
     "metadata": {
      "needs_background": "light"
     },
     "output_type": "display_data"
    }
   ],
   "source": [
    "sample4=np.random.randint(low=0,high=len(population),size=(2500,4))\n",
    "sample3=sample4[:,:-1]\n",
    "sample2=sample3[:,:-1]\n",
    "\n",
    "\n",
    "fig, (ax1,ax2,ax3) = plt.subplots (1, 3 ,sharey=True, figsize=(15,5))\n",
    "\n",
    "ax1.hist(np.mean(sample4,axis=1))\n",
    "ax2.hist(np.mean(sample3,axis=1))\n",
    "ax3.hist(np.mean(sample2,axis=1))\n",
    "plt.show()"
   ]
  },
  {
   "cell_type": "markdown",
   "metadata": {},
   "source": [
    "Q7. Valoarea aşteptată este o proprietate a:\n",
    "\n",
    "statisticii\n",
    "variabilităţii\n",
    "distribuţiei\n",
    "matematicii"
   ]
  },
  {
   "cell_type": "code",
   "execution_count": 35,
   "metadata": {},
   "outputs": [
    {
     "name": "stdout",
     "output_type": "stream",
     "text": [
      "Raspuns corect\n"
     ]
    }
   ],
   "source": [
    "def q():\n",
    "    return 3\n",
    "\n",
    "print('Raspuns %s' % ('corect' if r(7, q()) else 'incorect'))"
   ]
  },
  {
   "cell_type": "markdown",
   "metadata": {},
   "source": [
    "Q8. Media populaţiei este centrul de masă al:\n",
    "\n",
    "distribuţiei\n",
    "populaţiei\n",
    "sample-ului\n",
    "familiei"
   ]
  },
  {
   "cell_type": "code",
   "execution_count": 36,
   "metadata": {},
   "outputs": [
    {
     "name": "stdout",
     "output_type": "stream",
     "text": [
      "Raspuns corect\n"
     ]
    }
   ],
   "source": [
    "def q():\n",
    "    return 2\n",
    "\n",
    "print('Raspuns %s' % ('corect' if r(8, q()) else 'incorect'))"
   ]
  },
  {
   "cell_type": "markdown",
   "metadata": {},
   "source": [
    "\n",
    "Q9. Sample mean este centrul de masă al:\n",
    "\n",
    "datelor observate\n",
    "familiei\n",
    "populaţiei\n",
    "distribuţiei"
   ]
  },
  {
   "cell_type": "code",
   "execution_count": 37,
   "metadata": {},
   "outputs": [
    {
     "name": "stdout",
     "output_type": "stream",
     "text": [
      "Raspuns corect\n"
     ]
    }
   ],
   "source": [
    "def q():\n",
    "    return 1\n",
    "\n",
    "print('Raspuns %s' % ('corect' if r(9, q()) else 'incorect'))"
   ]
  },
  {
   "cell_type": "markdown",
   "metadata": {},
   "source": [
    "Q10. Media populaţiei estimează sample mean? (da/nu) Este sample mean unbiased? (da/nu) Pe măsură ce adăugăm mai multe experimente sample-ului, devine densitatea de probabilitate din ce în ce mai concentrată în jurul mediei populaţiei? (da/nu)\n",
    "\n",
    "Daţi un răspuns de genul 'x/x/x', unde x este 'da' sau 'nu'."
   ]
  },
  {
   "cell_type": "code",
   "execution_count": 38,
   "metadata": {},
   "outputs": [
    {
     "name": "stdout",
     "output_type": "stream",
     "text": [
      "Raspuns corect\n"
     ]
    }
   ],
   "source": [
    "def q():\n",
    "    return 'nu/da/da'\n",
    "\n",
    "print('Raspuns %s' % ('corect' if r(10, q()) else 'incorect'))"
   ]
  },
  {
   "cell_type": "markdown",
   "metadata": {},
   "source": [
    "Q11. Fie o populaţie a aruncărilor cu zarul. Probabilitatea fiecărei feţe este $1/6$. Care este valoarea aşteptată a feţei care va ieşi (media)? Încercaţi să nu introduceţi valoarea direct ci să scrieţi cod numpy care o calculează."
   ]
  },
  {
   "cell_type": "code",
   "execution_count": 39,
   "metadata": {},
   "outputs": [
    {
     "name": "stdout",
     "output_type": "stream",
     "text": [
      "Evenimente posibile: [1 2 3 4 5 6]\n",
      "Raspuns corect\n"
     ]
    }
   ],
   "source": [
    "x = np.array(range(1, 7))\n",
    "print('Evenimente posibile:', x)\n",
    "\n",
    "def q():\n",
    "    return sum(x)/len(x)\n",
    "\n",
    "print('Raspuns %s' % ('corect' if r(11, q()) else 'incorect'))"
   ]
  },
  {
   "cell_type": "markdown",
   "metadata": {},
   "source": [
    "Q12. Mai departe, care este valoarea aşteptată a pătratului variabilei aleatoare x de mai sus?"
   ]
  },
  {
   "cell_type": "code",
   "execution_count": 43,
   "metadata": {},
   "outputs": [
    {
     "name": "stdout",
     "output_type": "stream",
     "text": [
      "Evenimente posibile: [1 2 3 4 5 6]\n",
      "Raspuns corect\n"
     ]
    }
   ],
   "source": [
    "x = np.array(range(1, 7))\n",
    "print('Evenimente posibile:', x)\n",
    "\n",
    "def q():\n",
    "    return sum(x**2)/len(x)\n",
    "\n",
    "print('Raspuns %s' % ('corect' if r(12, np.round(q(), 3)) else 'incorect'))"
   ]
  },
  {
   "cell_type": "markdown",
   "metadata": {},
   "source": [
    "Q13. În continuare, care este valoarea dispersiei? Calculaţi-o ca diferenţa dintre valoarea aşteptată a pătratelor variabilei aleatoare X şi pătratul mediei sale:"
   ]
  },
  {
   "cell_type": "code",
   "execution_count": 44,
   "metadata": {},
   "outputs": [
    {
     "name": "stdout",
     "output_type": "stream",
     "text": [
      "Evenimente posibile: [1 2 3 4 5 6]\n",
      "Raspuns corect\n"
     ]
    }
   ],
   "source": [
    "x = np.array(range(1, 7))\n",
    "print('Evenimente posibile:', x)\n",
    "\n",
    "def q():\n",
    "    return (sum(x**2)/len(x))-(sum(x)/len(x))**2\n",
    "\n",
    "print('Raspuns %s' % ('corect' if r(13, np.round(q(), 3)) else 'incorect'))"
   ]
  },
  {
   "cell_type": "markdown",
   "metadata": {},
   "source": [
    "Q14. Considerăm dispersia mediei sample-urilor pentru o variabilă aleatoare, adică $Var(\\bar{X})$. Presupunem $n$ variabile independente $X_i$. Care din următoarele este expresia lui $Var(\\bar{X})$?\n",
    "\n",
    "1)$Var(1/n * \\sum_i X_i)$\n",
    "2)$E(1/n * \\sum_i X_i)$\n",
    "3)$sigma$\n",
    "4)$\\mu$"
   ]
  },
  {
   "cell_type": "code",
   "execution_count": 45,
   "metadata": {},
   "outputs": [
    {
     "name": "stdout",
     "output_type": "stream",
     "text": [
      "Raspuns corect\n"
     ]
    }
   ],
   "source": [
    "\n",
    "def q():\n",
    "    return 1\n",
    "\n",
    "print('Raspuns %s' % ('corect' if r(14, q()) else 'incorect'))"
   ]
  },
  {
   "cell_type": "markdown",
   "metadata": {},
   "source": [
    "Q15. Cu care din următoarele este egală $Var(1/n * \\sum_i X_i)$ ? Folosiţi proprietatea de liniaritate a dispersiei.\n",
    "\n",
    "1)$1/n^2 * E(\\sum_i X_i)$\n",
    "2)$\\mu / n^2$\n",
    "3)$1/n^2 * Var(\\sum_i X_i)$\n",
    "4)$\\sigma / n$"
   ]
  },
  {
   "cell_type": "code",
   "execution_count": 49,
   "metadata": {},
   "outputs": [
    {
     "name": "stdout",
     "output_type": "stream",
     "text": [
      "Raspuns corect\n"
     ]
    }
   ],
   "source": [
    "def q():\n",
    "    return 3\n",
    "\n",
    "print('Raspuns %s' % ('corect' if r(15, q()) else 'incorect'))"
   ]
  },
  {
   "cell_type": "markdown",
   "metadata": {},
   "source": [
    "Q16. Mai departe, cu ce este egală $Var(\\sum_i X_i)$? Atenţie, variabilele aleatoare $X_i$ sunt independente.\n",
    "\n",
    "1)$\\sum_i Var(X_i)$\n",
    "2)$E(\\sum_i X_i)$\n",
    "3)$Var(\\sigma)$\n",
    "4)$E(\\mu)$"
   ]
  },
  {
   "cell_type": "code",
   "execution_count": 51,
   "metadata": {},
   "outputs": [
    {
     "name": "stdout",
     "output_type": "stream",
     "text": [
      "Raspuns corect\n"
     ]
    }
   ],
   "source": [
    "def q():\n",
    "    return 1\n",
    "\n",
    "print('Raspuns %s' % ('corect' if r(16, q()) else 'incorect'))"
   ]
  },
  {
   "cell_type": "markdown",
   "metadata": {},
   "source": [
    "\n",
    "Q17. Mai departe, fiecare $X_i$ provine dintr-o populaţie cu dispersie $\\sigma^2$. Cu ce este egală $\\sum_i Var(X_i)$ ?\n",
    "\n",
    "1)$n^2 * Var(\\sigma)$\n",
    "2)$n * E(\\mu)$\n",
    "3)$n * \\mu$\n",
    "4)$n * \\sigma^2$"
   ]
  },
  {
   "cell_type": "code",
   "execution_count": 52,
   "metadata": {},
   "outputs": [
    {
     "name": "stdout",
     "output_type": "stream",
     "text": [
      "Raspuns corect\n"
     ]
    }
   ],
   "source": [
    "def q():\n",
    "    return 4\n",
    "\n",
    "print('Raspuns %s' % ('corect' if r(17, q()) else 'incorect'))"
   ]
  },
  {
   "cell_type": "markdown",
   "metadata": {},
   "source": [
    "Q18. În cele ce urmează ne propunem să verificăm modul de calcul teoretic al standard error. Ne reamintim cum funcţionează aceasta pentru evenimentele reprezentînd aruncarea monezii:"
   ]
  },
  {
   "cell_type": "code",
   "execution_count": 57,
   "metadata": {},
   "outputs": [
    {
     "name": "stdout",
     "output_type": "stream",
     "text": [
      "0.15811388300841897\n",
      "0.15825217218098458\n",
      "Raspuns corect\n"
     ]
    }
   ],
   "source": [
    "# Pentru o moneda cu probabilitatea p sa iasa Head, avem:\n",
    "# * media este p\n",
    "# * dispersia (variance) este p*(1-p), sau p*p daca moneda este ideala\n",
    "#   in acest ultim caz, deviatia standard este tot p\n",
    "\n",
    "# generam o matrice de 10000 x 10 de aruncari fair, valori intre 0 si 1\n",
    "nosim, n = 10000, 10\n",
    "x = np.random.randint(low=0, high=2, size=(nosim, n))\n",
    "\n",
    "# fiecare sample consta din 10 aruncari; calculam media acestor 10 aruncari\n",
    "x = np.mean(x, axis=1)\n",
    "\n",
    "# calculam deviaţia standard a mediei (radical din standard error) teoretic\n",
    "print(0.5/np.sqrt(n))\n",
    "\n",
    "# calculam deviaţia standard folosind numpy\n",
    "print(np.std(x))\n",
    "\n",
    "# calculati deviatia standard de mana, pornind de la sample-ul x, scriind explicit formula:\n",
    "def stddev(x):\n",
    "    return np.sqrt(np.mean(np.abs(x-np.mean(x))**2))\n",
    "\n",
    "print('Raspuns %s' % ('corect' if stddev(x) == np.std(x) else 'incorect'))"
   ]
  },
  {
   "cell_type": "markdown",
   "metadata": {},
   "source": [
    "Q19. Realizaţi acelaşi calcul, de data aceasta pentru evenimentele aruncării cu zarul:\n",
    "\n",
    "Notă: cam 1/10 din cazuri o să primiţi 'răspuns incorect', chiar dacă rezolvarea e bună"
   ]
  },
  {
   "cell_type": "code",
   "execution_count": 60,
   "metadata": {},
   "outputs": [
    {
     "name": "stdout",
     "output_type": "stream",
     "text": [
      "3.5 2.9166666666666665\n",
      "0.6251254389320594\n",
      "0.6251254389320594\n",
      "Raspuns corect\n"
     ]
    }
   ],
   "source": [
    "x = np.array([1, 2, 3, 4, 5, 6])\n",
    "mu = np.mean(x)\n",
    "sigma = np.var(x)\n",
    "print(mu, sigma)\n",
    "\n",
    "nosim, n = 10000, 10\n",
    "x = np.random.randint(low=0, high=7, size=(nosim, n))\n",
    "x = np.mean(x, axis=1)\n",
    "\n",
    "# calculati standard error of the mean\n",
    "def stderror(sigma, n):\n",
    "    return np.std(x)\n",
    "\n",
    "print(np.std(x))\n",
    "print(stderror(sigma, n))\n",
    "\n",
    "print('Raspuns %s' % ('corect' if np.round(stderror(x, n), 2) == np.round(np.std(x), 2) else 'incorect'))"
   ]
  },
  {
   "cell_type": "markdown",
   "metadata": {},
   "source": [
    "Q20. a) Pentru o distribuţie normală de medie 10 şi dispersie 2, consideraţi un număr variabil de sample size-uri pe care le extrageţi din distribuţie: 10, 20, 40, 60 de sample-uri. Calculaţi media pe sample. Repetaţie de 10000 de ori. Ridicaţi histogramele distribuţiei mediei sample-ului (sample mean).\n",
    "\n",
    "b) Realizaţi acelaşi lucru şi pentru distribuţia dispersiei (variance).\n",
    "\n",
    "Observaţi valorile unde se centrează distribuţiile obţinute."
   ]
  },
  {
   "cell_type": "code",
   "execution_count": 65,
   "metadata": {},
   "outputs": [
    {
     "data": {
      "image/png": "[encoded data removed]",
      "text/plain": [
       "<Figure size 1080x360 with 4 Axes>"
      ]
     },
     "metadata": {
      "needs_background": "light"
     },
     "output_type": "display_data"
    }
   ],
   "source": [
    "def roll(n):\n",
    "    # construim o matrice de n x 10000 de valori aleatoare cuprinse intre 1 si 6\n",
    "    r = np.random.randint(1, high=7, size=(10000, n))\n",
    "    \n",
    "    # se face media doar pe axa 1, adica pe linii, rezultatul va fi o matrice\n",
    "    # de n x 1 in care fiecare element va fi media (aritmetica) a liniei anterioare\n",
    "    return np.average(r, axis=1)\n",
    "\n",
    "fig, (ax1, ax2, ax3, ax4) = plt.subplots(1, 4, sharey=True, figsize=(15, 5))\n",
    "kwargs = dict(rwidth=0.7, density=False, alpha=0.75, ec='k', linewidth=2)\n",
    "# schimbati scala cu density=True ca sa vedeti cum se reduce imprastierea mediei\n",
    "# si cum se 'ascute' gaussiana\n",
    "#\n",
    "# density=True schimba ordonata din valori count in valori relative, adica probabilitati,\n",
    "# deci considera ca toata histograma este o Probability Mass Function (si o reprezinta ca atare)\n",
    "#\n",
    "ax1.hist(roll(10), 6, **kwargs, facecolor='pink')\n",
    "[ax_.set_xlabel('x') for ax_ in [ax1, ax2, ax3, ax4]]\n",
    "ax1.set_ylabel('counts')\n",
    "ax2.hist(roll(20), 11, **kwargs, facecolor='teal')\n",
    "ax3.hist(roll(40), 16, **kwargs, facecolor='blue')\n",
    "ax4.hist(roll(60), 21, **kwargs, facecolor='magenta')\n",
    "plt.show()"
   ]
  },
  {
   "cell_type": "code",
   "execution_count": null,
   "metadata": {},
   "outputs": [],
   "source": []
  }
 ],
 "metadata": {
  "kernelspec": {
   "display_name": "Python 3",
   "language": "python",
   "name": "python3"
  },
  "language_info": {
   "codemirror_mode": {
    "name": "ipython",
    "version": 3
   },
   "file_extension": ".py",
   "mimetype": "text/x-python",
   "name": "python",
   "nbconvert_exporter": "python",
   "pygments_lexer": "ipython3",
   "version": "3.7.2"
  }
 },
 "nbformat": 4,
 "nbformat_minor": 2
}
